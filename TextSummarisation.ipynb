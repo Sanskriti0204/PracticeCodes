{
  "nbformat": 4,
  "nbformat_minor": 0,
  "metadata": {
    "colab": {
      "provenance": [],
      "authorship_tag": "ABX9TyPJFoFs9402wy86YxXvQbsb",
      "include_colab_link": true
    },
    "kernelspec": {
      "name": "python3",
      "display_name": "Python 3"
    },
    "language_info": {
      "name": "python"
    }
  },
  "cells": [
    {
      "cell_type": "markdown",
      "metadata": {
        "id": "view-in-github",
        "colab_type": "text"
      },
      "source": [
        "<a href=\"https://colab.research.google.com/github/Sanskriti0204/PracticeCodes/blob/main/TextSummarisation.ipynb\" target=\"_parent\"><img src=\"https://colab.research.google.com/assets/colab-badge.svg\" alt=\"Open In Colab\"/></a>"
      ]
    },
    {
      "cell_type": "code",
      "execution_count": 2,
      "metadata": {
        "id": "zIzBqgv4Z_US"
      },
      "outputs": [],
      "source": [
        "text=\"Donald John Trump (born June 14, 1946) is an American politician, media personality, and businessman who served as the 45th president of the United States from 2017 to 2021. Having won the 2024 presidential election as the nominee of the Republican Party, he is the president-elect and will be inaugurated as the 47th president on January 20, 2025.Trump graduated with a bachelor's degree in economics from the University of Pennsylvania in 1968. He became president of the Trump family real estate business in 1971 and focused on luxury accommodations. After a series of business bankruptcies in the 1990s, he launched several side ventures. From 2004 to 2015, he produced and hosted the reality television series The Apprentice.Trump won the 2016 presidential election as the Republican nominee. His immigration policy included a travel ban targeting several Muslim-majority countries and expanding the U.S.–Mexico border wall; he also briefly implemented a family separation policy. He rolled back more than 100 environmental policies and regulations, signed the Tax Cuts and Jobs Act of 2017, and in 2018, he initiated a trade war with China. He withdrew the U.S. from international agreements on climate, trade, and the nuclear program of Iran. He met with North Korean leader Kim Jong Un, but made no progress on denuclearization. In response to the COVID-19 pandemic, he downplayed the severity, contradicted guidance from international public health bodies, and signed the CARES Act economic stimulus. He was impeached in 2019 for abuse of power and obstruction of Congress, and in 2021 for incitement of insurrection. The Senate acquitted him in both cases.\""
      ]
    },
    {
      "cell_type": "code",
      "source": [
        "len(text)"
      ],
      "metadata": {
        "colab": {
          "base_uri": "https://localhost:8080/"
        },
        "id": "ZEKWpNdYaePw",
        "outputId": "57369aab-3399-4371-ef58-6c27e8d5e22e"
      },
      "execution_count": 3,
      "outputs": [
        {
          "output_type": "execute_result",
          "data": {
            "text/plain": [
              "1666"
            ]
          },
          "metadata": {},
          "execution_count": 3
        }
      ]
    },
    {
      "cell_type": "code",
      "source": [
        "import spacy\n",
        "from spacy.lang.en.stop_words import STOP_WORDS\n",
        "from string import punctuation\n"
      ],
      "metadata": {
        "id": "zxr4_bhEagSS"
      },
      "execution_count": 5,
      "outputs": []
    },
    {
      "cell_type": "code",
      "source": [
        "nlp=spacy.load(\"en_core_web_sm\")"
      ],
      "metadata": {
        "id": "-BfJTPVbaxue"
      },
      "execution_count": 6,
      "outputs": []
    },
    {
      "cell_type": "code",
      "source": [
        "doc=nlp(text)"
      ],
      "metadata": {
        "id": "JdkdW0Bta79a"
      },
      "execution_count": 7,
      "outputs": []
    },
    {
      "cell_type": "code",
      "source": [
        "tokens=[token.text for token in doc]\n",
        "print(tokens)"
      ],
      "metadata": {
        "colab": {
          "base_uri": "https://localhost:8080/"
        },
        "id": "6yAVDGTva9rq",
        "outputId": "375660d3-6e8c-43f9-d91e-4313312cefc7"
      },
      "execution_count": 9,
      "outputs": [
        {
          "output_type": "stream",
          "name": "stdout",
          "text": [
            "['Donald', 'John', 'Trump', '(', 'born', 'June', '14', ',', '1946', ')', 'is', 'an', 'American', 'politician', ',', 'media', 'personality', ',', 'and', 'businessman', 'who', 'served', 'as', 'the', '45th', 'president', 'of', 'the', 'United', 'States', 'from', '2017', 'to', '2021', '.', 'Having', 'won', 'the', '2024', 'presidential', 'election', 'as', 'the', 'nominee', 'of', 'the', 'Republican', 'Party', ',', 'he', 'is', 'the', 'president', '-', 'elect', 'and', 'will', 'be', 'inaugurated', 'as', 'the', '47th', 'president', 'on', 'January', '20', ',', '2025.Trump', 'graduated', 'with', 'a', 'bachelor', \"'s\", 'degree', 'in', 'economics', 'from', 'the', 'University', 'of', 'Pennsylvania', 'in', '1968', '.', 'He', 'became', 'president', 'of', 'the', 'Trump', 'family', 'real', 'estate', 'business', 'in', '1971', 'and', 'focused', 'on', 'luxury', 'accommodations', '.', 'After', 'a', 'series', 'of', 'business', 'bankruptcies', 'in', 'the', '1990s', ',', 'he', 'launched', 'several', 'side', 'ventures', '.', 'From', '2004', 'to', '2015', ',', 'he', 'produced', 'and', 'hosted', 'the', 'reality', 'television', 'series', 'The', 'Apprentice', '.', 'Trump', 'won', 'the', '2016', 'presidential', 'election', 'as', 'the', 'Republican', 'nominee', '.', 'His', 'immigration', 'policy', 'included', 'a', 'travel', 'ban', 'targeting', 'several', 'Muslim', '-', 'majority', 'countries', 'and', 'expanding', 'the', 'U.S.–Mexico', 'border', 'wall', ';', 'he', 'also', 'briefly', 'implemented', 'a', 'family', 'separation', 'policy', '.', 'He', 'rolled', 'back', 'more', 'than', '100', 'environmental', 'policies', 'and', 'regulations', ',', 'signed', 'the', 'Tax', 'Cuts', 'and', 'Jobs', 'Act', 'of', '2017', ',', 'and', 'in', '2018', ',', 'he', 'initiated', 'a', 'trade', 'war', 'with', 'China', '.', 'He', 'withdrew', 'the', 'U.S.', 'from', 'international', 'agreements', 'on', 'climate', ',', 'trade', ',', 'and', 'the', 'nuclear', 'program', 'of', 'Iran', '.', 'He', 'met', 'with', 'North', 'Korean', 'leader', 'Kim', 'Jong', 'Un', ',', 'but', 'made', 'no', 'progress', 'on', 'denuclearization', '.', 'In', 'response', 'to', 'the', 'COVID-19', 'pandemic', ',', 'he', 'downplayed', 'the', 'severity', ',', 'contradicted', 'guidance', 'from', 'international', 'public', 'health', 'bodies', ',', 'and', 'signed', 'the', 'CARES', 'Act', 'economic', 'stimulus', '.', 'He', 'was', 'impeached', 'in', '2019', 'for', 'abuse', 'of', 'power', 'and', 'obstruction', 'of', 'Congress', ',', 'and', 'in', '2021', 'for', 'incitement', 'of', 'insurrection', '.', 'The', 'Senate', 'acquitted', 'him', 'in', 'both', 'cases', '.']\n"
          ]
        }
      ]
    },
    {
      "cell_type": "code",
      "source": [
        "punctuation=punctuation+'\\n'"
      ],
      "metadata": {
        "id": "8oVqBV8CbFr9"
      },
      "execution_count": 10,
      "outputs": []
    },
    {
      "cell_type": "markdown",
      "source": [
        "Text cleaning"
      ],
      "metadata": {
        "id": "V8FpP_g1bqQT"
      }
    },
    {
      "cell_type": "code",
      "source": [
        "word_freq={}\n",
        "stop_words=list(STOP_WORDS)\n",
        "for word in doc:\n",
        "  if word.text.lower() not in stop_words:\n",
        "    if word.text.lower() not in punctuation:\n",
        "      if word.text not in word_freq.keys():\n",
        "        word_freq[word.text]=1\n",
        "      else:\n",
        "        word_freq[word.text]+=1\n",
        "\n",
        "\n",
        "\n",
        "print(word_freq)"
      ],
      "metadata": {
        "colab": {
          "base_uri": "https://localhost:8080/"
        },
        "id": "f0rOiX23bVGf",
        "outputId": "2571f971-1ac1-430a-ff4b-8608f254a223"
      },
      "execution_count": 13,
      "outputs": [
        {
          "output_type": "stream",
          "name": "stdout",
          "text": [
            "{'Donald': 1, 'John': 1, 'Trump': 3, 'born': 1, 'June': 1, '14': 1, '1946': 1, 'American': 1, 'politician': 1, 'media': 1, 'personality': 1, 'businessman': 1, 'served': 1, '45th': 1, 'president': 4, 'United': 1, 'States': 1, '2017': 2, '2021': 2, 'Having': 1, 'won': 2, '2024': 1, 'presidential': 2, 'election': 2, 'nominee': 2, 'Republican': 2, 'Party': 1, 'elect': 1, 'inaugurated': 1, '47th': 1, 'January': 1, '20': 1, '2025.Trump': 1, 'graduated': 1, 'bachelor': 1, 'degree': 1, 'economics': 1, 'University': 1, 'Pennsylvania': 1, '1968': 1, 'family': 2, 'real': 1, 'estate': 1, 'business': 2, '1971': 1, 'focused': 1, 'luxury': 1, 'accommodations': 1, 'series': 2, 'bankruptcies': 1, '1990s': 1, 'launched': 1, 'ventures': 1, '2004': 1, '2015': 1, 'produced': 1, 'hosted': 1, 'reality': 1, 'television': 1, 'Apprentice': 1, '2016': 1, 'immigration': 1, 'policy': 2, 'included': 1, 'travel': 1, 'ban': 1, 'targeting': 1, 'Muslim': 1, 'majority': 1, 'countries': 1, 'expanding': 1, 'U.S.–Mexico': 1, 'border': 1, 'wall': 1, 'briefly': 1, 'implemented': 1, 'separation': 1, 'rolled': 1, '100': 1, 'environmental': 1, 'policies': 1, 'regulations': 1, 'signed': 2, 'Tax': 1, 'Cuts': 1, 'Jobs': 1, 'Act': 2, '2018': 1, 'initiated': 1, 'trade': 2, 'war': 1, 'China': 1, 'withdrew': 1, 'U.S.': 1, 'international': 2, 'agreements': 1, 'climate': 1, 'nuclear': 1, 'program': 1, 'Iran': 1, 'met': 1, 'North': 1, 'Korean': 1, 'leader': 1, 'Kim': 1, 'Jong': 1, 'Un': 1, 'progress': 1, 'denuclearization': 1, 'response': 1, 'COVID-19': 1, 'pandemic': 1, 'downplayed': 1, 'severity': 1, 'contradicted': 1, 'guidance': 1, 'public': 1, 'health': 1, 'bodies': 1, 'CARES': 1, 'economic': 1, 'stimulus': 1, 'impeached': 1, '2019': 1, 'abuse': 1, 'power': 1, 'obstruction': 1, 'Congress': 1, 'incitement': 1, 'insurrection': 1, 'Senate': 1, 'acquitted': 1, 'cases': 1}\n"
          ]
        }
      ]
    },
    {
      "cell_type": "code",
      "source": [
        "max_freq=max(word_freq.values())\n",
        "for word in word_freq.keys():\n",
        "  word_freq[word]=word_freq[word]/max_freq"
      ],
      "metadata": {
        "id": "TAarOfUlbxM1"
      },
      "execution_count": 17,
      "outputs": []
    },
    {
      "cell_type": "code",
      "source": [
        "sent_tokens=[sent for sent in doc.sents]\n",
        "print(sent_tokens)"
      ],
      "metadata": {
        "colab": {
          "base_uri": "https://localhost:8080/"
        },
        "id": "v0kyUllLdG_j",
        "outputId": "ec0970b7-1263-46fc-f0c4-22dab8e15147"
      },
      "execution_count": 18,
      "outputs": [
        {
          "output_type": "stream",
          "name": "stdout",
          "text": [
            "[Donald John Trump (born June 14, 1946) is an American politician, media personality, and businessman who served as the 45th president of the United States from 2017 to 2021., Having won the 2024 presidential election as the nominee of the Republican Party, he is the president-elect and will be inaugurated as the 47th president on January 20, 2025.Trump graduated with a bachelor's degree in economics from the University of Pennsylvania in 1968., He became president of the Trump family real estate business in 1971 and focused on luxury accommodations., After a series of business bankruptcies in the 1990s, he launched several side ventures., From 2004 to 2015, he produced and hosted the reality television series The Apprentice., Trump won the 2016 presidential election as the Republican nominee., His immigration policy included a travel ban targeting several Muslim-majority countries and expanding the U.S.–Mexico border wall; he also briefly implemented a family separation policy., He rolled back more than 100 environmental policies and regulations, signed the Tax Cuts and Jobs Act of 2017, and in 2018, he initiated a trade war with China., He withdrew the U.S. from international agreements on climate, trade, and the nuclear program of Iran., He met with North Korean leader Kim Jong Un, but made no progress on denuclearization., In response to the COVID-19 pandemic, he downplayed the severity, contradicted guidance from international public health bodies, and signed the CARES Act economic stimulus., He was impeached in 2019 for abuse of power and obstruction of Congress, and in 2021 for incitement of insurrection., The Senate acquitted him in both cases.]\n"
          ]
        }
      ]
    },
    {
      "cell_type": "code",
      "source": [
        "sent_score={}\n",
        "for sent in sent_tokens:\n",
        "  for word in sent:\n",
        "    if word.text.lower() in word_freq.keys():\n",
        "      if sent not in sent_score.keys():\n",
        "        sent_score[sent]=word_freq[word.text.lower()]\n",
        "      else:\n",
        "        sent_score[sent]+=word_freq[word.text.lower()]\n",
        "print(sent_score)"
      ],
      "metadata": {
        "colab": {
          "base_uri": "https://localhost:8080/"
        },
        "id": "Zl_YO9gUdOno",
        "outputId": "5403077a-76a0-43b9-f9e3-1d358b4a0503"
      },
      "execution_count": 19,
      "outputs": [
        {
          "output_type": "stream",
          "name": "stdout",
          "text": [
            "{Donald John Trump (born June 14, 1946) is an American politician, media personality, and businessman who served as the 45th president of the United States from 2017 to 2021.: 4.25, Having won the 2024 presidential election as the nominee of the Republican Party, he is the president-elect and will be inaugurated as the 47th president on January 20, 2025.Trump graduated with a bachelor's degree in economics from the University of Pennsylvania in 1968.: 6.5, He became president of the Trump family real estate business in 1971 and focused on luxury accommodations.: 3.5, After a series of business bankruptcies in the 1990s, he launched several side ventures.: 2.0, From 2004 to 2015, he produced and hosted the reality television series The Apprentice.: 2.0, Trump won the 2016 presidential election as the Republican nominee.: 2.25, His immigration policy included a travel ban targeting several Muslim-majority countries and expanding the U.S.–Mexico border wall; he also briefly implemented a family separation policy.: 4.75, He rolled back more than 100 environmental policies and regulations, signed the Tax Cuts and Jobs Act of 2017, and in 2018, he initiated a trade war with China.: 3.5, He withdrew the U.S. from international agreements on climate, trade, and the nuclear program of Iran.: 2.25, He met with North Korean leader Kim Jong Un, but made no progress on denuclearization.: 1.0, In response to the COVID-19 pandemic, he downplayed the severity, contradicted guidance from international public health bodies, and signed the CARES Act economic stimulus.: 3.75, He was impeached in 2019 for abuse of power and obstruction of Congress, and in 2021 for incitement of insurrection.: 2.25, The Senate acquitted him in both cases.: 0.5}\n"
          ]
        }
      ]
    },
    {
      "cell_type": "code",
      "source": [
        "from heapq import nlargest"
      ],
      "metadata": {
        "id": "1Ka1dSo7dy6R"
      },
      "execution_count": 20,
      "outputs": []
    },
    {
      "cell_type": "code",
      "source": [
        "summary=nlargest(8,iterable=sent_score,key=sent_score.get)\n",
        "print(summary)"
      ],
      "metadata": {
        "colab": {
          "base_uri": "https://localhost:8080/"
        },
        "id": "zeZTPQu6d_hn",
        "outputId": "e97ad356-eeb7-43d3-f9f5-de0ad4602b5c"
      },
      "execution_count": 21,
      "outputs": [
        {
          "output_type": "stream",
          "name": "stdout",
          "text": [
            "[Having won the 2024 presidential election as the nominee of the Republican Party, he is the president-elect and will be inaugurated as the 47th president on January 20, 2025.Trump graduated with a bachelor's degree in economics from the University of Pennsylvania in 1968., His immigration policy included a travel ban targeting several Muslim-majority countries and expanding the U.S.–Mexico border wall; he also briefly implemented a family separation policy., Donald John Trump (born June 14, 1946) is an American politician, media personality, and businessman who served as the 45th president of the United States from 2017 to 2021., In response to the COVID-19 pandemic, he downplayed the severity, contradicted guidance from international public health bodies, and signed the CARES Act economic stimulus., He became president of the Trump family real estate business in 1971 and focused on luxury accommodations., He rolled back more than 100 environmental policies and regulations, signed the Tax Cuts and Jobs Act of 2017, and in 2018, he initiated a trade war with China., Trump won the 2016 presidential election as the Republican nominee., He withdrew the U.S. from international agreements on climate, trade, and the nuclear program of Iran.]\n"
          ]
        }
      ]
    },
    {
      "cell_type": "code",
      "source": [
        "final_summary=[word.text for word in summary]\n",
        "print(final_summary)"
      ],
      "metadata": {
        "colab": {
          "base_uri": "https://localhost:8080/"
        },
        "id": "E3L9H8K7eOk8",
        "outputId": "3677d853-564f-4fe0-f263-51352f2b02e8"
      },
      "execution_count": 22,
      "outputs": [
        {
          "output_type": "stream",
          "name": "stdout",
          "text": [
            "[\"Having won the 2024 presidential election as the nominee of the Republican Party, he is the president-elect and will be inaugurated as the 47th president on January 20, 2025.Trump graduated with a bachelor's degree in economics from the University of Pennsylvania in 1968.\", 'His immigration policy included a travel ban targeting several Muslim-majority countries and expanding the U.S.–Mexico border wall; he also briefly implemented a family separation policy.', 'Donald John Trump (born June 14, 1946) is an American politician, media personality, and businessman who served as the 45th president of the United States from 2017 to 2021.', 'In response to the COVID-19 pandemic, he downplayed the severity, contradicted guidance from international public health bodies, and signed the CARES Act economic stimulus.', 'He became president of the Trump family real estate business in 1971 and focused on luxury accommodations.', 'He rolled back more than 100 environmental policies and regulations, signed the Tax Cuts and Jobs Act of 2017, and in 2018, he initiated a trade war with China.', 'Trump won the 2016 presidential election as the Republican nominee.', 'He withdrew the U.S. from international agreements on climate, trade, and the nuclear program of Iran.']\n"
          ]
        }
      ]
    },
    {
      "cell_type": "code",
      "source": [
        "len(final_summary)"
      ],
      "metadata": {
        "colab": {
          "base_uri": "https://localhost:8080/"
        },
        "id": "itHykg7XeT_S",
        "outputId": "41eee6c7-bedb-495a-f971-16eae62e3b2c"
      },
      "execution_count": 24,
      "outputs": [
        {
          "output_type": "execute_result",
          "data": {
            "text/plain": [
              "8"
            ]
          },
          "metadata": {},
          "execution_count": 24
        }
      ]
    },
    {
      "cell_type": "code",
      "source": [],
      "metadata": {
        "id": "A0oLHbjJecJC"
      },
      "execution_count": null,
      "outputs": []
    }
  ]
}